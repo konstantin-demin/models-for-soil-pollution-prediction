{
 "cells": [
  {
   "cell_type": "code",
   "execution_count": 5,
   "id": "f59fef97",
   "metadata": {},
   "outputs": [],
   "source": [
    "# load libraries, загрузка необходимых библиотек \n",
    "import tensorflow as tf\n",
    "import pandas as pd\n",
    "import numpy as np\n",
    "from tensorflow.keras.models import load_model"
   ]
  },
  {
   "cell_type": "code",
   "execution_count": null,
   "id": "d6edb7c5",
   "metadata": {},
   "outputs": [],
   "source": [
    "# import table with your samples taxonomic profile, change [PATH/TO/YOUR/TAXONOMIC/PROFILE] for the real table filepath\n",
    "# импорт таблицы с таксономическим профилем, требуется заменить [PATH/TO/YOUR/TAXONOMIC/PROFILE] на актуальный путь к файлу\n",
    "data = pd.read_csv(\"path/to/data_cleaned.csv\", delimiter=\"\\t\") "
   ]
  },
  {
   "cell_type": "code",
   "execution_count": 8,
   "id": "e15b5d13",
   "metadata": {},
   "outputs": [],
   "source": [
    "# model import, импорт модели \n",
    "loaded_model = load_model(\"path/to/nn_model\")"
   ]
  },
  {
   "cell_type": "code",
   "execution_count": 9,
   "id": "04002c72",
   "metadata": {
    "scrolled": true
   },
   "outputs": [
    {
     "name": "stdout",
     "output_type": "stream",
     "text": [
      "1/1 [==============================] - 0s 261ms/step\n"
     ]
    }
   ],
   "source": [
    "# pollution level prediction and saving, предсказание уровня загрязнения и сохранение предсказанных значений\n",
    "data_top = data.head(n=100) \n",
    "prediction = pd.Series(np.squeeze(loaded_model.predict(data)))\n",
    "sample = []\n",
    "for row in data_top.index:\n",
    "    sample.append(row)    \n",
    "dataframe = pd.DataFrame({'predicted pollution level': prediction, 'sample': sample})\n",
    "# this line saves prediction values table to a csv file, эта строка сохраняет предсказанные значения в новую csv таблицу\n",
    "dataframe.to_csv('~/neural_network_prediction_code.csv', index=False, sep='\\t')"
   ]
  }
 ],
 "metadata": {
  "kernelspec": {
   "display_name": "Python 3 (ipykernel)",
   "language": "python",
   "name": "python3"
  },
  "language_info": {
   "codemirror_mode": {
    "name": "ipython",
    "version": 3
   },
   "file_extension": ".py",
   "mimetype": "text/x-python",
   "name": "python",
   "nbconvert_exporter": "python",
   "pygments_lexer": "ipython3",
   "version": "3.11.5"
  }
 },
 "nbformat": 4,
 "nbformat_minor": 5
}
